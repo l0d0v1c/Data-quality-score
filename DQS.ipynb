{
 "cells": [
  {
   "cell_type": "code",
   "execution_count": 1,
   "id": "peaceful-heather",
   "metadata": {},
   "outputs": [],
   "source": [
    "import sklearn.datasets\n",
    "import pandas as pd\n",
    "import numpy as np\n",
    "import matplotlib.pyplot as plt\n",
    "import collections\n",
    "from sklearn.metrics import r2_score\n",
    "%matplotlib inline\n",
    "dat= sklearn.datasets.load_boston()\n",
    "boston=pd.DataFrame(dat[\"data\"],columns=dat[\"feature_names\"])\n",
    "boston=pd.concat([boston,pd.DataFrame(dat[\"target\"],columns=[\"price\"])],axis=1)\n",
    "iris=sklearn.datasets.load_iris()\n",
    "iris=pd.concat([pd.DataFrame([iris.target_names[x] for x in iris.target],columns=[\"species\"]),pd.DataFrame(iris[\"data\"],columns=iris[\"feature_names\"])],axis=1)"
   ]
  },
  {
   "cell_type": "code",
   "execution_count": 2,
   "id": "effective-symposium",
   "metadata": {},
   "outputs": [],
   "source": [
    "def dataquality(df,granulo=10):\n",
    "    \"\"\"\n",
    "    Calculation of a data quality score\n",
    "    :param granulo:segmentation for continuous data\n",
    "    \n",
    "    \"\"\"\n",
    "    totalcell=df.shape[0]*df.shape[1]\n",
    "    isnotna=1-df.isna().sum().sum()/totalcell\n",
    "    res=[[\"Completeness\",round(isnotna*100,0)]]\n",
    "    for col,typ in zip(df.columns,df.dtypes):\n",
    "\n",
    "        if typ==\"object\":\n",
    "\n",
    "            valeurs=df[col].value_counts()\n",
    "            maxecartO=df.shape[0]-2+(len(valeurs)-2)*df.shape[0]/len(valeurs)\n",
    "            ecarts=np.abs(valeurs-valeurs.sum()/len(valeurs)).sum()/maxecartO\n",
    "            res.append([col,round(100-ecarts*100,0)])\n",
    "\n",
    "\n",
    "        else:\n",
    "            if typ==\"float64\" or typ==\"int64\":\n",
    "\n",
    "                maxecartF=df.shape[0]-2+(granulo-2)*df.shape[0]/granulo\n",
    "                maxx=df[col].max()\n",
    "                minn=df[col].min()\n",
    "                cnt=[]\n",
    "                for x in range(granulo+1):\n",
    "                    ma=minn+(maxx-minn)/granulo*x\n",
    "                    cnt.append(len(df[col][(df[col]>=ma) & (df[col]<ma+(maxx-minn)/granulo)]))\n",
    "                ecarts=np.array(cnt).sum()/maxecartF\n",
    "                res.append([col,round(100-ecarts*100,0)])\n",
    "    res=pd.DataFrame(res,columns=[\"Feature\",\"Quality\"])\n",
    "    res=res.append({\"Feature\":\"Trainability\",\"Quality\":round(100-df.shape[1]/df.shape[0]*100,0)},ignore_index=True)\n",
    "    res=res.append({\"Feature\":\"Global quality (%)\",\"Quality\":round(res[\"Quality\"].mean())},ignore_index=True)\n",
    "        \n",
    "    return res\n",
    "\n"
   ]
  },
  {
   "cell_type": "markdown",
   "id": "binary-liberia",
   "metadata": {},
   "source": [
    "# DQS on iris case"
   ]
  },
  {
   "cell_type": "code",
   "execution_count": 3,
   "id": "olympic-andorra",
   "metadata": {},
   "outputs": [
    {
     "data": {
      "text/html": [
       "<div>\n",
       "<style scoped>\n",
       "    .dataframe tbody tr th:only-of-type {\n",
       "        vertical-align: middle;\n",
       "    }\n",
       "\n",
       "    .dataframe tbody tr th {\n",
       "        vertical-align: top;\n",
       "    }\n",
       "\n",
       "    .dataframe thead th {\n",
       "        text-align: right;\n",
       "    }\n",
       "</style>\n",
       "<table border=\"1\" class=\"dataframe\">\n",
       "  <thead>\n",
       "    <tr style=\"text-align: right;\">\n",
       "      <th></th>\n",
       "      <th>Feature</th>\n",
       "      <th>Quality</th>\n",
       "    </tr>\n",
       "  </thead>\n",
       "  <tbody>\n",
       "    <tr>\n",
       "      <th>0</th>\n",
       "      <td>Completeness</td>\n",
       "      <td>100.0</td>\n",
       "    </tr>\n",
       "    <tr>\n",
       "      <th>1</th>\n",
       "      <td>species</td>\n",
       "      <td>100.0</td>\n",
       "    </tr>\n",
       "    <tr>\n",
       "      <th>2</th>\n",
       "      <td>sepal length (cm)</td>\n",
       "      <td>42.0</td>\n",
       "    </tr>\n",
       "    <tr>\n",
       "      <th>3</th>\n",
       "      <td>sepal width (cm)</td>\n",
       "      <td>44.0</td>\n",
       "    </tr>\n",
       "    <tr>\n",
       "      <th>4</th>\n",
       "      <td>petal length (cm)</td>\n",
       "      <td>44.0</td>\n",
       "    </tr>\n",
       "    <tr>\n",
       "      <th>5</th>\n",
       "      <td>petal width (cm)</td>\n",
       "      <td>44.0</td>\n",
       "    </tr>\n",
       "    <tr>\n",
       "      <th>6</th>\n",
       "      <td>Trainability</td>\n",
       "      <td>97.0</td>\n",
       "    </tr>\n",
       "    <tr>\n",
       "      <th>7</th>\n",
       "      <td>Global quality (%)</td>\n",
       "      <td>67.0</td>\n",
       "    </tr>\n",
       "  </tbody>\n",
       "</table>\n",
       "</div>"
      ],
      "text/plain": [
       "              Feature  Quality\n",
       "0        Completeness    100.0\n",
       "1             species    100.0\n",
       "2   sepal length (cm)     42.0\n",
       "3    sepal width (cm)     44.0\n",
       "4   petal length (cm)     44.0\n",
       "5    petal width (cm)     44.0\n",
       "6        Trainability     97.0\n",
       "7  Global quality (%)     67.0"
      ]
     },
     "execution_count": 3,
     "metadata": {},
     "output_type": "execute_result"
    }
   ],
   "source": [
    "dataquality(iris)"
   ]
  },
  {
   "cell_type": "markdown",
   "id": "ranging-ending",
   "metadata": {},
   "source": [
    "# DQS on Boston case"
   ]
  },
  {
   "cell_type": "code",
   "execution_count": 4,
   "id": "junior-motivation",
   "metadata": {},
   "outputs": [
    {
     "data": {
      "text/html": [
       "<div>\n",
       "<style scoped>\n",
       "    .dataframe tbody tr th:only-of-type {\n",
       "        vertical-align: middle;\n",
       "    }\n",
       "\n",
       "    .dataframe tbody tr th {\n",
       "        vertical-align: top;\n",
       "    }\n",
       "\n",
       "    .dataframe thead th {\n",
       "        text-align: right;\n",
       "    }\n",
       "</style>\n",
       "<table border=\"1\" class=\"dataframe\">\n",
       "  <thead>\n",
       "    <tr style=\"text-align: right;\">\n",
       "      <th></th>\n",
       "      <th>Feature</th>\n",
       "      <th>Quality</th>\n",
       "    </tr>\n",
       "  </thead>\n",
       "  <tbody>\n",
       "    <tr>\n",
       "      <th>0</th>\n",
       "      <td>Completeness</td>\n",
       "      <td>100.0</td>\n",
       "    </tr>\n",
       "    <tr>\n",
       "      <th>1</th>\n",
       "      <td>CRIM</td>\n",
       "      <td>44.0</td>\n",
       "    </tr>\n",
       "    <tr>\n",
       "      <th>2</th>\n",
       "      <td>ZN</td>\n",
       "      <td>44.0</td>\n",
       "    </tr>\n",
       "    <tr>\n",
       "      <th>3</th>\n",
       "      <td>INDUS</td>\n",
       "      <td>44.0</td>\n",
       "    </tr>\n",
       "    <tr>\n",
       "      <th>4</th>\n",
       "      <td>CHAS</td>\n",
       "      <td>44.0</td>\n",
       "    </tr>\n",
       "    <tr>\n",
       "      <th>5</th>\n",
       "      <td>NOX</td>\n",
       "      <td>44.0</td>\n",
       "    </tr>\n",
       "    <tr>\n",
       "      <th>6</th>\n",
       "      <td>RM</td>\n",
       "      <td>44.0</td>\n",
       "    </tr>\n",
       "    <tr>\n",
       "      <th>7</th>\n",
       "      <td>AGE</td>\n",
       "      <td>44.0</td>\n",
       "    </tr>\n",
       "    <tr>\n",
       "      <th>8</th>\n",
       "      <td>DIS</td>\n",
       "      <td>44.0</td>\n",
       "    </tr>\n",
       "    <tr>\n",
       "      <th>9</th>\n",
       "      <td>RAD</td>\n",
       "      <td>44.0</td>\n",
       "    </tr>\n",
       "    <tr>\n",
       "      <th>10</th>\n",
       "      <td>TAX</td>\n",
       "      <td>44.0</td>\n",
       "    </tr>\n",
       "    <tr>\n",
       "      <th>11</th>\n",
       "      <td>PTRATIO</td>\n",
       "      <td>44.0</td>\n",
       "    </tr>\n",
       "    <tr>\n",
       "      <th>12</th>\n",
       "      <td>B</td>\n",
       "      <td>44.0</td>\n",
       "    </tr>\n",
       "    <tr>\n",
       "      <th>13</th>\n",
       "      <td>LSTAT</td>\n",
       "      <td>44.0</td>\n",
       "    </tr>\n",
       "    <tr>\n",
       "      <th>14</th>\n",
       "      <td>price</td>\n",
       "      <td>44.0</td>\n",
       "    </tr>\n",
       "    <tr>\n",
       "      <th>15</th>\n",
       "      <td>Trainability</td>\n",
       "      <td>97.0</td>\n",
       "    </tr>\n",
       "    <tr>\n",
       "      <th>16</th>\n",
       "      <td>Global quality (%)</td>\n",
       "      <td>51.0</td>\n",
       "    </tr>\n",
       "  </tbody>\n",
       "</table>\n",
       "</div>"
      ],
      "text/plain": [
       "               Feature  Quality\n",
       "0         Completeness    100.0\n",
       "1                 CRIM     44.0\n",
       "2                   ZN     44.0\n",
       "3                INDUS     44.0\n",
       "4                 CHAS     44.0\n",
       "5                  NOX     44.0\n",
       "6                   RM     44.0\n",
       "7                  AGE     44.0\n",
       "8                  DIS     44.0\n",
       "9                  RAD     44.0\n",
       "10                 TAX     44.0\n",
       "11             PTRATIO     44.0\n",
       "12                   B     44.0\n",
       "13               LSTAT     44.0\n",
       "14               price     44.0\n",
       "15        Trainability     97.0\n",
       "16  Global quality (%)     51.0"
      ]
     },
     "execution_count": 4,
     "metadata": {},
     "output_type": "execute_result"
    }
   ],
   "source": [
    "dataquality(boston)"
   ]
  },
  {
   "cell_type": "code",
   "execution_count": 5,
   "id": "owned-musical",
   "metadata": {},
   "outputs": [],
   "source": [
    "res=[]\n",
    "for g in [3,4,5,6,7,10,20,100]:\n",
    "    res.append([g]+dataquality(boston,granulo=g).Quality.to_list()[1:-2])\n",
    "res=pd.DataFrame(res,columns=[\"granulo\"]+boston.columns.to_list())"
   ]
  },
  {
   "cell_type": "code",
   "execution_count": 6,
   "id": "postal-partition",
   "metadata": {},
   "outputs": [
    {
     "data": {
      "text/plain": [
       "<matplotlib.legend.Legend at 0x1328ae940>"
      ]
     },
     "execution_count": 6,
     "metadata": {},
     "output_type": "execute_result"
    },
    {
     "data": {
      "image/png": "[encoded data removed]",
      "text/plain": [
       "<Figure size 1080x720 with 1 Axes>"
      ]
     },
     "metadata": {
      "needs_background": "light"
     },
     "output_type": "display_data"
    }
   ],
   "source": [
    "plt.figure(figsize=(15,10))\n",
    "for Y in boston.columns:\n",
    "    plt.plot(res.granulo,res[Y],label=Y)\n",
    "plt.xlabel(\"Granulo\")\n",
    "plt.ylabel(\"Score\")\n",
    "plt.legend()"
   ]
  },
  {
   "cell_type": "markdown",
   "id": "varied-fruit",
   "metadata": {},
   "source": [
    "# Normal law"
   ]
  },
  {
   "cell_type": "code",
   "execution_count": 7,
   "id": "inappropriate-expansion",
   "metadata": {},
   "outputs": [
    {
     "data": {
      "text/html": [
       "<div>\n",
       "<style scoped>\n",
       "    .dataframe tbody tr th:only-of-type {\n",
       "        vertical-align: middle;\n",
       "    }\n",
       "\n",
       "    .dataframe tbody tr th {\n",
       "        vertical-align: top;\n",
       "    }\n",
       "\n",
       "    .dataframe thead th {\n",
       "        text-align: right;\n",
       "    }\n",
       "</style>\n",
       "<table border=\"1\" class=\"dataframe\">\n",
       "  <thead>\n",
       "    <tr style=\"text-align: right;\">\n",
       "      <th></th>\n",
       "      <th>Feature</th>\n",
       "      <th>Quality</th>\n",
       "    </tr>\n",
       "  </thead>\n",
       "  <tbody>\n",
       "    <tr>\n",
       "      <th>0</th>\n",
       "      <td>Completeness</td>\n",
       "      <td>100.0</td>\n",
       "    </tr>\n",
       "    <tr>\n",
       "      <th>1</th>\n",
       "      <td>V1</td>\n",
       "      <td>50.0</td>\n",
       "    </tr>\n",
       "    <tr>\n",
       "      <th>2</th>\n",
       "      <td>V2</td>\n",
       "      <td>50.0</td>\n",
       "    </tr>\n",
       "    <tr>\n",
       "      <th>3</th>\n",
       "      <td>Trainability</td>\n",
       "      <td>100.0</td>\n",
       "    </tr>\n",
       "    <tr>\n",
       "      <th>4</th>\n",
       "      <td>Global quality (%)</td>\n",
       "      <td>75.0</td>\n",
       "    </tr>\n",
       "  </tbody>\n",
       "</table>\n",
       "</div>"
      ],
      "text/plain": [
       "              Feature  Quality\n",
       "0        Completeness    100.0\n",
       "1                  V1     50.0\n",
       "2                  V2     50.0\n",
       "3        Trainability    100.0\n",
       "4  Global quality (%)     75.0"
      ]
     },
     "execution_count": 7,
     "metadata": {},
     "output_type": "execute_result"
    }
   ],
   "source": [
    "df=np.random.normal(3, 2.5, size=(1000, 2))\n",
    "df=pd.DataFrame(df,columns=['V1','V2'])\n",
    "dataquality(df,granulo=500)"
   ]
  },
  {
   "cell_type": "markdown",
   "id": "supposed-morris",
   "metadata": {},
   "source": [
    "# Benford's law\n",
    "On Boston case\n",
    "https://en.wikipedia.org/wiki/Benford%27s_law"
   ]
  },
  {
   "cell_type": "code",
   "execution_count": 8,
   "id": "ongoing-termination",
   "metadata": {},
   "outputs": [],
   "source": [
    "def benfordslaw(df,centered=False):\n",
    "    \"\"\"\n",
    "    Calculation of Benford's law\n",
    "    \n",
    "    \"\"\"\n",
    "    res=[]\n",
    "    cols=[]\n",
    "    ben=[0 for _ in range(9)]\n",
    "    for col,typ in zip(df.columns,df.dtypes):\n",
    "        if typ!=\"object\":\n",
    "            maxi,mini=df[col].abs().max(),df[col].abs().min()\n",
    "            cols.append(col)\n",
    "            if centered:\n",
    "                c=(df[col].abs()-mini)/(maxi-mini)*1000\n",
    "            else:\n",
    "                c=df[col].abs()*1000\n",
    "            c=c.to_numpy().astype(int).astype(str)\n",
    "            \n",
    "            \n",
    "            \n",
    "            for x in c:\n",
    "                if x[0]!='0':\n",
    "                    ben[int(x[0])-1]+=1\n",
    "    ben=np.array(ben)/sum(ben)\n",
    "    res.append(ben)\n",
    "    res=np.array(res)\n",
    "    res=res.reshape(9,res.shape[0])\n",
    "    res=pd.DataFrame(res,index=[i+1 for i in range(9)],columns=[\"p\"])\n",
    "    res[\"Benford\"]=[np.log10(1+1/x) for x in res.index]\n",
    "    r2=r2_score(res.p,res.Benford)\n",
    "    return res,r2"
   ]
  },
  {
   "cell_type": "code",
   "execution_count": 15,
   "id": "noted-pearl",
   "metadata": {},
   "outputs": [],
   "source": [
    "res,r2=benfordslaw(boston,centered=False)"
   ]
  },
  {
   "cell_type": "code",
   "execution_count": 16,
   "id": "adequate-encyclopedia",
   "metadata": {},
   "outputs": [
    {
     "data": {
      "image/png": "[encoded data removed]",
      "text/plain": [
       "<Figure size 432x288 with 1 Axes>"
      ]
     },
     "metadata": {
      "needs_background": "light"
     },
     "output_type": "display_data"
    }
   ],
   "source": [
    "fig = plt.figure()\n",
    "ax = fig.add_axes([0,0,1,1])\n",
    "X = np.arange(9)\n",
    "ax.bar(X + 0.00, res.p, color = 'b', width = 0.25)\n",
    "ax.bar(X + 0.25, res.Benford, color = 'y', width = 0.25)\n",
    "ax.legend(labels=res.columns)\n",
    "plt.title(f\"r2={r2:.2}\")\n",
    "plt.show()"
   ]
  },
  {
   "cell_type": "code",
   "execution_count": null,
   "id": "median-reynolds",
   "metadata": {},
   "outputs": [],
   "source": []
  },
  {
   "cell_type": "code",
   "execution_count": null,
   "id": "accessory-helena",
   "metadata": {},
   "outputs": [],
   "source": []
  }
 ],
 "metadata": {
  "kernelspec": {
   "display_name": "Python 3",
   "language": "python",
   "name": "python3"
  },
  "language_info": {
   "codemirror_mode": {
    "name": "ipython",
    "version": 3
   },
   "file_extension": ".py",
   "mimetype": "text/x-python",
   "name": "python",
   "nbconvert_exporter": "python",
   "pygments_lexer": "ipython3",
   "version": "3.8.8"
  }
 },
 "nbformat": 4,
 "nbformat_minor": 5
}
